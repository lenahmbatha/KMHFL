{
  "nbformat": 4,
  "nbformat_minor": 0,
  "metadata": {
    "colab": {
      "provenance": [],
      "authorship_tag": "ABX9TyNXmXpZVlCwG7Izv+hauqgv",
      "include_colab_link": true
    },
    "kernelspec": {
      "name": "python3",
      "display_name": "Python 3"
    },
    "language_info": {
      "name": "python"
    }
  },
  "cells": [
    {
      "cell_type": "markdown",
      "metadata": {
        "id": "view-in-github",
        "colab_type": "text"
      },
      "source": [
        "<a href=\"https://colab.research.google.com/github/lenahmbatha/KMHFL/blob/master/gameOfDice.ipynb\" target=\"_parent\"><img src=\"https://colab.research.google.com/assets/colab-badge.svg\" alt=\"Open In Colab\"/></a>"
      ]
    },
    {
      "cell_type": "code",
      "execution_count": null,
      "metadata": {
        "id": "fn1oRrRwxeFR"
      },
      "outputs": [],
      "source": [
        "GameOfDice"
      ]
    },
    {
      "cell_type": "code",
      "source": [
        "\n",
        "import  random  # importing the random library \n",
        "\n",
        "def roll_dice():\n",
        " die1=random.randnumbers(1,7)\n",
        " die2=random.randnumbers(1,7)\n",
        " return (die1,die2)\n",
        " #declare and define the function display\n",
        "def display_dice(dice):\n",
        "  die1,die2 = dice\n",
        "  print(\"Player rolled (die1) + (die2)=(sum(dice))\")\n",
        "  die_values = roll_dice()\n",
        "  display_dice = die_values\n",
        "  sum_of_dice =sum(die_values)\n",
        "\n",
        "# determine the game status of each outcome after the player throws the dice\n",
        "  if sum_of_dice in(7,11):\n",
        "    game_status = \"WIN\"\n",
        "  elif sum_of_dice in (2,3,12):\n",
        "    game_status = \"Loss\"\n",
        "  else:\n",
        "   game_status = \"Continue\"\n",
        "   my_point =  sum_of_dice\n",
        "   print(\"My point is\" my_point)\n",
        "\n",
        "   while game_status == \"Continue\"\n",
        "   die_values=roll_dice()\n",
        "   display_dice = die_values\n",
        "   sum_of_dice = sum(die_values)\n",
        "   \n",
        "   if game_status == my_point:\n",
        "     game_status = \"WIN\"\n",
        "   elif sum_of_dice == 7:\n",
        "     game_status=\"Loss\"\n",
        "\n",
        "     if game_status ==\"WIN\":\n",
        "       print(\"Player won\")\n",
        "     else:\n",
        "     print(\"Player lost\") \n",
        "\n",
        "\n",
        "\n",
        "\n",
        "\n",
        "\n",
        "\n"
      ],
      "metadata": {
        "colab": {
          "base_uri": "https://localhost:8080/",
          "height": 131
        },
        "id": "udDINMB6xuC3",
        "outputId": "8d848f5e-4e5f-458c-cbf1-bacbe1d45ebc"
      },
      "execution_count": 8,
      "outputs": [
        {
          "output_type": "error",
          "ename": "SyntaxError",
          "evalue": "ignored",
          "traceback": [
            "\u001b[0;36m  File \u001b[0;32m\"<ipython-input-8-e758e1917a70>\"\u001b[0;36m, line \u001b[0;32m23\u001b[0m\n\u001b[0;31m    print(\"My point is\" my_point)\u001b[0m\n\u001b[0m                        ^\u001b[0m\n\u001b[0;31mSyntaxError\u001b[0m\u001b[0;31m:\u001b[0m invalid syntax\n"
          ]
        }
      ]
    },
    {
      "cell_type": "markdown",
      "source": [],
      "metadata": {
        "id": "WR600sxGxq_2"
      }
    }
  ]
}